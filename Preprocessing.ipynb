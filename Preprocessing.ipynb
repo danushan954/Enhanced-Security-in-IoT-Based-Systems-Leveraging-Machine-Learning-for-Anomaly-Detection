{
 "cells": [
  {
   "cell_type": "code",
   "execution_count": 1,
   "metadata": {
    "colab": {
     "base_uri": "https://localhost:8080/"
    },
    "id": "A2foE2pfkn6l",
    "outputId": "728ac41f-30b3-4985-ad5e-233b553e8064"
   },
   "outputs": [
    {
     "name": "stdout",
     "output_type": "stream",
     "text": [
      "Requirement already satisfied: dask-ml in /usr/local/lib/python3.11/dist-packages (2025.1.0)\n",
      "Requirement already satisfied: dask-glm>=0.2.0 in /usr/local/lib/python3.11/dist-packages (from dask-ml) (0.3.2)\n",
      "Requirement already satisfied: dask>=2025.1.0 in /usr/local/lib/python3.11/dist-packages (from dask[array,dataframe]>=2025.1.0->dask-ml) (2025.3.0)\n",
      "Requirement already satisfied: distributed>=2025.1.0 in /usr/local/lib/python3.11/dist-packages (from dask-ml) (2025.3.0)\n",
      "Requirement already satisfied: multipledispatch>=0.4.9 in /usr/local/lib/python3.11/dist-packages (from dask-ml) (1.0.0)\n",
      "Requirement already satisfied: numba>=0.51.0 in /usr/local/lib/python3.11/dist-packages (from dask-ml) (0.60.0)\n",
      "Requirement already satisfied: numpy>=1.24.0 in /usr/local/lib/python3.11/dist-packages (from dask-ml) (2.0.2)\n",
      "Requirement already satisfied: packaging in /usr/local/lib/python3.11/dist-packages (from dask-ml) (24.2)\n",
      "Requirement already satisfied: pandas>=2.0 in /usr/local/lib/python3.11/dist-packages (from dask-ml) (2.2.2)\n",
      "Requirement already satisfied: scikit-learn>=1.6.1 in /usr/local/lib/python3.11/dist-packages (from dask-ml) (1.6.1)\n",
      "Requirement already satisfied: scipy in /usr/local/lib/python3.11/dist-packages (from dask-ml) (1.14.1)\n",
      "Requirement already satisfied: click>=8.1 in /usr/local/lib/python3.11/dist-packages (from dask>=2025.1.0->dask[array,dataframe]>=2025.1.0->dask-ml) (8.1.8)\n",
      "Requirement already satisfied: cloudpickle>=3.0.0 in /usr/local/lib/python3.11/dist-packages (from dask>=2025.1.0->dask[array,dataframe]>=2025.1.0->dask-ml) (3.1.1)\n",
      "Requirement already satisfied: fsspec>=2021.09.0 in /usr/local/lib/python3.11/dist-packages (from dask>=2025.1.0->dask[array,dataframe]>=2025.1.0->dask-ml) (2025.3.2)\n",
      "Requirement already satisfied: partd>=1.4.0 in /usr/local/lib/python3.11/dist-packages (from dask>=2025.1.0->dask[array,dataframe]>=2025.1.0->dask-ml) (1.4.2)\n",
      "Requirement already satisfied: pyyaml>=5.3.1 in /usr/local/lib/python3.11/dist-packages (from dask>=2025.1.0->dask[array,dataframe]>=2025.1.0->dask-ml) (6.0.2)\n",
      "Requirement already satisfied: toolz>=0.10.0 in /usr/local/lib/python3.11/dist-packages (from dask>=2025.1.0->dask[array,dataframe]>=2025.1.0->dask-ml) (0.12.1)\n",
      "Requirement already satisfied: importlib_metadata>=4.13.0 in /usr/local/lib/python3.11/dist-packages (from dask>=2025.1.0->dask[array,dataframe]>=2025.1.0->dask-ml) (8.6.1)\n",
      "Requirement already satisfied: sparse>=0.7.0 in /usr/local/lib/python3.11/dist-packages (from dask-glm>=0.2.0->dask-ml) (0.16.0)\n",
      "Requirement already satisfied: pyarrow>=14.0.1 in /usr/local/lib/python3.11/dist-packages (from dask[array,dataframe]>=2025.1.0->dask-ml) (18.1.0)\n",
      "Requirement already satisfied: jinja2>=2.10.3 in /usr/local/lib/python3.11/dist-packages (from distributed>=2025.1.0->dask-ml) (3.1.6)\n",
      "Requirement already satisfied: locket>=1.0.0 in /usr/local/lib/python3.11/dist-packages (from distributed>=2025.1.0->dask-ml) (1.0.0)\n",
      "Requirement already satisfied: msgpack>=1.0.2 in /usr/local/lib/python3.11/dist-packages (from distributed>=2025.1.0->dask-ml) (1.1.0)\n",
      "Requirement already satisfied: psutil>=5.8.0 in /usr/local/lib/python3.11/dist-packages (from distributed>=2025.1.0->dask-ml) (5.9.5)\n",
      "Requirement already satisfied: sortedcontainers>=2.0.5 in /usr/local/lib/python3.11/dist-packages (from distributed>=2025.1.0->dask-ml) (2.4.0)\n",
      "Requirement already satisfied: tblib>=1.6.0 in /usr/local/lib/python3.11/dist-packages (from distributed>=2025.1.0->dask-ml) (3.1.0)\n",
      "Requirement already satisfied: tornado>=6.2.0 in /usr/local/lib/python3.11/dist-packages (from distributed>=2025.1.0->dask-ml) (6.4.2)\n",
      "Requirement already satisfied: urllib3>=1.26.5 in /usr/local/lib/python3.11/dist-packages (from distributed>=2025.1.0->dask-ml) (2.3.0)\n",
      "Requirement already satisfied: zict>=3.0.0 in /usr/local/lib/python3.11/dist-packages (from distributed>=2025.1.0->dask-ml) (3.0.0)\n",
      "Requirement already satisfied: llvmlite<0.44,>=0.43.0dev0 in /usr/local/lib/python3.11/dist-packages (from numba>=0.51.0->dask-ml) (0.43.0)\n",
      "Requirement already satisfied: python-dateutil>=2.8.2 in /usr/local/lib/python3.11/dist-packages (from pandas>=2.0->dask-ml) (2.8.2)\n",
      "Requirement already satisfied: pytz>=2020.1 in /usr/local/lib/python3.11/dist-packages (from pandas>=2.0->dask-ml) (2025.2)\n",
      "Requirement already satisfied: tzdata>=2022.7 in /usr/local/lib/python3.11/dist-packages (from pandas>=2.0->dask-ml) (2025.2)\n",
      "Requirement already satisfied: joblib>=1.2.0 in /usr/local/lib/python3.11/dist-packages (from scikit-learn>=1.6.1->dask-ml) (1.4.2)\n",
      "Requirement already satisfied: threadpoolctl>=3.1.0 in /usr/local/lib/python3.11/dist-packages (from scikit-learn>=1.6.1->dask-ml) (3.6.0)\n",
      "Requirement already satisfied: zipp>=3.20 in /usr/local/lib/python3.11/dist-packages (from importlib_metadata>=4.13.0->dask>=2025.1.0->dask[array,dataframe]>=2025.1.0->dask-ml) (3.21.0)\n",
      "Requirement already satisfied: MarkupSafe>=2.0 in /usr/local/lib/python3.11/dist-packages (from jinja2>=2.10.3->distributed>=2025.1.0->dask-ml) (3.0.2)\n",
      "Requirement already satisfied: six>=1.5 in /usr/local/lib/python3.11/dist-packages (from python-dateutil>=2.8.2->pandas>=2.0->dask-ml) (1.17.0)\n"
     ]
    }
   ],
   "source": [
    "!pip install dask-ml\n"
   ]
  },
  {
   "cell_type": "code",
   "execution_count": null,
   "metadata": {
    "colab": {
     "base_uri": "https://localhost:8080/"
    },
    "id": "OCMGFImulBIG",
    "outputId": "5ce9932d-03db-4e00-ac7b-e47a57a153a7"
   },
   "outputs": [
    {
     "name": "stdout",
     "output_type": "stream",
     "text": [
      "📦 Loading dataset...\n"
     ]
    }
   ],
   "source": [
    "#  Imports\n",
    "from dask import dataframe as dd\n",
    "from dask.diagnostics import ProgressBar\n",
    "from dask_ml.preprocessing import StandardScaler\n",
    "import numpy as np\n",
    "\n",
    "# Load the dataset\n",
    "file_path = \"/content/drive/MyDrive/Dataset/CICIoT2023.parquet\"\n",
    "print(\" Loading dataset...\")\n",
    "df = dd.read_parquet(file_path)"
   ]
  },
  {
   "cell_type": "code",
   "execution_count": null,
   "metadata": {
    "colab": {
     "base_uri": "https://localhost:8080/"
    },
    "id": "sxKS7GdNlUQx",
    "outputId": "443ab3d9-cf9d-48af-a367-a16119d3fea3"
   },
   "outputs": [
    {
     "name": "stdout",
     "output_type": "stream",
     "text": [
      "[########################################] | 100% Completed | 102.40 ms\n",
      "🔢 Total rows before cleaning: 46686579\n",
      "🔢 Total columns: 47\n"
     ]
    }
   ],
   "source": [
    "#  Initial info\n",
    "with ProgressBar():\n",
    "    total_rows = df.shape[0].compute()\n",
    "print(f\" Total rows before cleaning: {total_rows}\")\n",
    "print(f\" Total columns: {len(df.columns)}\")"
   ]
  },
  {
   "cell_type": "code",
   "execution_count": null,
   "metadata": {
    "colab": {
     "base_uri": "https://localhost:8080/"
    },
    "id": "MM-UO8yZlY_I",
    "outputId": "616a0194-c0d4-4dd7-8e42-8c5f605567c5"
   },
   "outputs": [
    {
     "name": "stdout",
     "output_type": "stream",
     "text": [
      "\n",
      "🧹 Removing duplicates...\n",
      "[########################################] | 100% Completed | 66.40 s\n",
      "[########################################] | 100% Completed | 104.92 ms\n",
      "✅ Duplicates removed: 34\n"
     ]
    }
   ],
   "source": [
    "#  Dropping duplicates\n",
    "print(\"\\n Removing duplicates...\")\n",
    "with ProgressBar():\n",
    "    deduped = df.drop_duplicates().persist()\n",
    "    deduped_rows = deduped.shape[0].compute()\n",
    "    df = deduped\n",
    "print(f\" Duplicates removed: {total_rows - deduped_rows}\")"
   ]
  },
  {
   "cell_type": "code",
   "execution_count": null,
   "metadata": {
    "colab": {
     "base_uri": "https://localhost:8080/"
    },
    "id": "Ib2vS1R-lb5Z",
    "outputId": "2c7e2a5c-86cf-465c-e48b-97e9f44b6297"
   },
   "outputs": [
    {
     "name": "stdout",
     "output_type": "stream",
     "text": [
      "\n",
      "🔍 Checking and dropping missing values...\n",
      "[########################################] | 100% Completed | 730.98 ms\n",
      "[########################################] | 100% Completed | 2.23 s\n",
      "[########################################] | 100% Completed | 104.99 ms\n",
      "✅ Missing values removed: 0\n",
      "✅ Rows after cleaning: 46686545 (removed 34)\n"
     ]
    }
   ],
   "source": [
    "#  Handling missing values\n",
    "print(\"\\n Checking and dropping missing values...\")\n",
    "with ProgressBar():\n",
    "    missing_total = df.isnull().sum().compute().sum()\n",
    "    clean_df = df.dropna().persist()\n",
    "    clean_rows = clean_df.shape[0].compute()\n",
    "    df = clean_df\n",
    "print(f\" Missing values removed: {missing_total}\")\n",
    "print(f\" Rows after cleaning: {clean_rows} (removed {total_rows - clean_rows})\")"
   ]
  },
  {
   "cell_type": "code",
   "execution_count": null,
   "metadata": {
    "colab": {
     "base_uri": "https://localhost:8080/"
    },
    "id": "gR2eBSfllwZl",
    "outputId": "d585e5ca-d177-428a-e980-95d574825230"
   },
   "outputs": [
    {
     "name": "stdout",
     "output_type": "stream",
     "text": [
      "\n",
      "🧾 Separating features and label...\n"
     ]
    }
   ],
   "source": [
    "#  Separate features and label\n",
    "print(\"\\n Separating features and label...\")\n",
    "label_col = \"label\"\n",
    "feature_cols = [col for col in df.columns if col != label_col]"
   ]
  },
  {
   "cell_type": "code",
   "execution_count": null,
   "metadata": {
    "colab": {
     "base_uri": "https://localhost:8080/"
    },
    "id": "o_ylkoShl2y9",
    "outputId": "0c3a2460-2347-4399-cd62-72e30ecd9a6d"
   },
   "outputs": [
    {
     "name": "stdout",
     "output_type": "stream",
     "text": [
      "\n",
      "📈 Calculating feature variances...\n",
      "[########################################] | 100% Completed | 10.60 s\n"
     ]
    }
   ],
   "source": [
    "# Variance filtering (Predefined threshold method)\n",
    "print(\"\\n Calculating feature variances...\")\n",
    "with ProgressBar():\n",
    "    variances = df[feature_cols].var().compute()"
   ]
  },
  {
   "cell_type": "code",
   "execution_count": null,
   "metadata": {
    "colab": {
     "base_uri": "https://localhost:8080/"
    },
    "id": "Yw-s7weal47F",
    "outputId": "685dd328-f638-4357-b36a-f2ac1410be07"
   },
   "outputs": [
    {
     "name": "stdout",
     "output_type": "stream",
     "text": [
      "✅ Features retained: 40\n",
      "❌ Features removed: 6\n",
      "🗃️ Removed due to low variance: ['SMTP', 'IRC', 'DHCP', 'Telnet', 'ece_flag_number', 'cwr_flag_number']\n"
     ]
    }
   ],
   "source": [
    "#  Select features above threshold\n",
    "variance_threshold = 1e-5  # customizable\n",
    "selected_features = variances[variances > variance_threshold].index.tolist()\n",
    "removed_features = list(set(feature_cols) - set(selected_features))\n",
    "\n",
    "print(f\" Features retained: {len(selected_features)}\")\n",
    "print(f\" Features removed: {len(removed_features)}\")\n",
    "if removed_features:\n",
    "    print(f\" Removed due to low variance: {removed_features}\")"
   ]
  },
  {
   "cell_type": "code",
   "execution_count": null,
   "metadata": {
    "id": "cwkrhyaQl_Y_"
   },
   "outputs": [],
   "source": [
    "#  Filter main df\n",
    "df = df[selected_features + [label_col]]"
   ]
  },
  {
   "cell_type": "code",
   "execution_count": null,
   "metadata": {
    "colab": {
     "base_uri": "https://localhost:8080/"
    },
    "id": "FnQsV8v9mBzl",
    "outputId": "d337d559-5d54-49a9-d71c-9fd32f4aaefe"
   },
   "outputs": [
    {
     "name": "stdout",
     "output_type": "stream",
     "text": [
      "\n",
      "📏 Scaling features using Dask-ML StandardScaler...\n",
      "[########################################] | 100% Completed | 6.52 s\n"
     ]
    }
   ],
   "source": [
    "#  Apply StandardScaler from Dask-ML\n",
    "print(\"\\n Scaling features using Dask-ML StandardScaler...\")\n",
    "scaler = StandardScaler()\n",
    "with ProgressBar():\n",
    "    df_scaled = scaler.fit_transform(df[selected_features])\n",
    "    df_scaled[label_col] = df[label_col]"
   ]
  },
  {
   "cell_type": "code",
   "execution_count": null,
   "metadata": {
    "colab": {
     "base_uri": "https://localhost:8080/"
    },
    "id": "fsO71h99mIhm",
    "outputId": "4edbd01b-ff0d-45cd-c963-8edd9db6f88b"
   },
   "outputs": [
    {
     "name": "stdout",
     "output_type": "stream",
     "text": [
      "\n",
      "💾 Saving preprocessed dataset to: /content/drive/MyDrive/Dataset/CICIoT2023_preprocessed.parquet\n",
      "[########################################] | 100% Completed | 25.55 s\n",
      "\n",
      "✅ All preprocessing steps completed successfully!\n"
     ]
    }
   ],
   "source": [
    "#  Save preprocessed dataset\n",
    "output_path = \"/content/drive/MyDrive/Dataset/CICIoT2023_preprocessed.parquet\"\n",
    "print(f\"\\n Saving preprocessed dataset to: {output_path}\")\n",
    "with ProgressBar():\n",
    "    df_scaled.to_parquet(output_path, write_index=False)\n",
    "\n",
    "print(\"\\n All preprocessing steps completed successfully!\")"
   ]
  }
 ],
 "metadata": {
  "colab": {
   "machine_shape": "hm",
   "provenance": []
  },
  "kernelspec": {
   "display_name": "Python 3 (ipykernel)",
   "language": "python",
   "name": "python3"
  },
  "language_info": {
   "codemirror_mode": {
    "name": "ipython",
    "version": 3
   },
   "file_extension": ".py",
   "mimetype": "text/x-python",
   "name": "python",
   "nbconvert_exporter": "python",
   "pygments_lexer": "ipython3",
   "version": "3.13.0"
  }
 },
 "nbformat": 4,
 "nbformat_minor": 4
}
